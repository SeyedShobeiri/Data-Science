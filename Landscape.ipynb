{
 "cells": [
  {
   "cell_type": "code",
   "execution_count": 4,
   "id": "22d54b29",
   "metadata": {},
   "outputs": [],
   "source": [
    "import os\n",
    "import sys\n",
    "assert sys.version_info >= (3,5)\n",
    "import sklearn\n",
    "assert sklearn.__version__ >= \"0.20\"\n",
    "import matplotlib.pyplot as plt\n",
    "import numpy as np\n",
    "import pandas as pd\n",
    "import sklearn.linear_model\n",
    "\n",
    "datapath = os.path.join(\"Datasets\",\"\")"
   ]
  },
  {
   "cell_type": "code",
   "execution_count": 5,
   "id": "777a50a4",
   "metadata": {},
   "outputs": [],
   "source": [
    "def prepare_country_stats(oecd_bli,gdp_per_capita):\n",
    "    oecd_bli = oecd_bli[oecd_bli[\"INEQUALITY\"]==\"TOT\"]\n",
    "    oecd_bli = oecd_bli.pivot(index=\"Country\",columns=\"Indicator\",values=\"Value\")\n",
    "    gdp_per_capita.rename(columns={\"2015\":\"GDP per capita\"},inplace = True)\n",
    "    gdp_per_capita.set_index(\"Country\",inplace=True)\n",
    "    full_country_stats = pd.merge(left=oecd_bli,right=gdp_per_capita,left_index=True,right_index = True)\n",
    "    full_country_stats.sort_values(by=\"GDP per capita\",inplace = True)\n",
    "    remove_indices = [0,1,6,8,33,34,35]\n",
    "    keep_indices = list(set(range(36)) - set(remove_indices))\n",
    "    return full_country_stats[[\"GDP per capita\",\"Life satisfaction\"]].iloc[keep_indices]"
   ]
  },
  {
   "cell_type": "code",
   "execution_count": null,
   "id": "eaba76eb",
   "metadata": {},
   "outputs": [],
   "source": [
    "oecd_bli = pd.read_csv(datapath+\"oecd_bli_2015.csv\",thousands=',')\n",
    "gdp_per_capita = pd.read_csv(datapath+\"gdp_per_capita.csv\",thousands=',',delimiter='\\t',encoding='latin1',na_values=)"
   ]
  }
 ],
 "metadata": {
  "kernelspec": {
   "display_name": "Python 3",
   "language": "python",
   "name": "python3"
  },
  "language_info": {
   "codemirror_mode": {
    "name": "ipython",
    "version": 3
   },
   "file_extension": ".py",
   "mimetype": "text/x-python",
   "name": "python",
   "nbconvert_exporter": "python",
   "pygments_lexer": "ipython3",
   "version": "3.8.8"
  }
 },
 "nbformat": 4,
 "nbformat_minor": 5
}
